{
 "cells": [
  {
   "cell_type": "code",
   "execution_count": null,
   "metadata": {},
   "outputs": [],
   "source": [
    "%matplotlib widget\n",
    "from geometria import *\n",
    "from graph import *\n",
    "from trig import *\n",
    "from shortest_path import *"
   ]
  },
  {
   "cell_type": "code",
   "execution_count": null,
   "metadata": {},
   "outputs": [],
   "source": [
    "v1 = Vertex(0, 0)\n",
    "v2 = Vertex(0, 1)\n",
    "v3 = Vertex(1, 1)\n",
    "v4 = Vertex(1, 0)\n",
    "v5 = Vertex(1, 2)\n",
    "v6 = Vertex(2, 2)\n",
    "v7 = Vertex(2, 1)\n",
    "v8 = Vertex(2, 0)\n",
    "\n",
    "# Create a graph and add the vertices\n",
    "g = Graph([])\n",
    "g.add_edge(Edge(v1, v2))\n",
    "g.add_edge(Edge(v2, v3))\n",
    "g.add_edge(Edge(v3, v4))\n",
    "g.add_edge(Edge(v4, v1))\n",
    "g.add_edge(Edge(v3, v5))\n",
    "g.add_edge(Edge(v5, v6))\n",
    "g.add_edge(Edge(v6, v7))\n",
    "g.add_edge(Edge(v7, v8))\n",
    "g.add_edge(Edge(v8, v4))\n",
    "g.add_edge(Edge(v3, v6))"
   ]
  },
  {
   "cell_type": "code",
   "execution_count": null,
   "metadata": {},
   "outputs": [],
   "source": [
    "vertices = g.get_verticies()\n",
    "edges = g.get_edges()\n",
    "\n",
    "# Extract the x and y coordinates of the vertices\n",
    "x = [v.x for v in vertices]\n",
    "y = [v.y for v in vertices]\n",
    "\n",
    "# Plot the vertices\n",
    "plt.scatter(x, y)\n",
    "\n",
    "# Iterate over the edges and draw lines between the vertices\n",
    "for edge in edges:\n",
    "    w1 = edge.v1\n",
    "    w2 = edge.v2\n",
    "    plt.plot([w1.x, w2.x], [w1.y, w2.y], color ='blue')\n",
    "\n",
    "path = dijkstra(g, v1, v6)\n",
    "print(f\"Najkrótsza ścieżka między {v1} a {v6} to: {path}\")\n",
    "\n",
    "for i in range(1, len(path)):\n",
    "    w1 = path[i-1]\n",
    "    w2 = path[i]\n",
    "    plt.plot([w1.x, w2.x], [w1.y, w2.y], color ='red')\n",
    "\n",
    "plt.show()"
   ]
  }
 ],
 "metadata": {
  "kernelspec": {
   "display_name": "Python 3",
   "language": "python",
   "name": "python3"
  },
  "language_info": {
   "codemirror_mode": {
    "name": "ipython",
    "version": 3
   },
   "file_extension": ".py",
   "mimetype": "text/x-python",
   "name": "python",
   "nbconvert_exporter": "python",
   "pygments_lexer": "ipython3",
   "version": "3.10.6"
  },
  "orig_nbformat": 4,
  "vscode": {
   "interpreter": {
    "hash": "916dbcbb3f70747c44a77c7bcd40155683ae19c65e1c03b4aa3499c5328201f1"
   }
  }
 },
 "nbformat": 4,
 "nbformat_minor": 2
}
