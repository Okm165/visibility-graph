{
 "cells": [
  {
   "cell_type": "code",
   "execution_count": null,
   "metadata": {},
   "outputs": [],
   "source": [
    "%matplotlib widget\n",
    "from geometria import *\n",
    "from graph import *\n",
    "from trig import *\n",
    "from visible_vertices import *\n",
    "from visibility_graph import *\n",
    "from utilities import *"
   ]
  },
  {
   "cell_type": "code",
   "execution_count": null,
   "metadata": {},
   "outputs": [],
   "source": [
    "test_plot1 = Plot()\n",
    "test_plot1.draw()"
   ]
  },
  {
   "cell_type": "code",
   "execution_count": null,
   "metadata": {},
   "outputs": [],
   "source": [
    "figs = test_plot1.get_added_figure()\n",
    "points = test_plot1.get_added_points()[0].points\n",
    "start = Vertex(points[0][0], points[0][1])\n",
    "stop = Vertex(points[1][0], points[1][1])\n",
    "\n",
    "G = Graph(figs)\n",
    "G.add_vert(start)\n",
    "G.add_vert(stop)\n",
    "\n",
    "VG = VisibilityGraph(G)\n",
    "VG.gen_vis_graph()\n",
    "path = VG.shortest_path(start, stop)\n",
    "\n",
    "plot_final = Plot(lines=[graph_to_linesCollection(VG.union(), \"blue\"), graph_to_linesCollection(G, \"red\"), edges_to_linesCollection(path, \"green\")])\n",
    "plot_final.draw()"
   ]
  }
 ],
 "metadata": {
  "kernelspec": {
   "display_name": "Python 3",
   "language": "python",
   "name": "python3"
  },
  "language_info": {
   "codemirror_mode": {
    "name": "ipython",
    "version": 3
   },
   "file_extension": ".py",
   "mimetype": "text/x-python",
   "name": "python",
   "nbconvert_exporter": "python",
   "pygments_lexer": "ipython3",
   "version": "3.10.6"
  },
  "orig_nbformat": 4,
  "vscode": {
   "interpreter": {
    "hash": "916dbcbb3f70747c44a77c7bcd40155683ae19c65e1c03b4aa3499c5328201f1"
   }
  }
 },
 "nbformat": 4,
 "nbformat_minor": 2
}
