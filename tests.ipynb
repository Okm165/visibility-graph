{
 "cells": [
  {
   "cell_type": "code",
   "execution_count": null,
   "metadata": {},
   "outputs": [],
   "source": [
    "%matplotlib widget\n",
    "from geometria import *\n",
    "from graph import *\n",
    "from trig import *"
   ]
  },
  {
   "cell_type": "code",
   "execution_count": null,
   "metadata": {},
   "outputs": [],
   "source": [
    "test_plot1 = Plot()\n",
    "test_plot1.draw()"
   ]
  },
  {
   "cell_type": "code",
   "execution_count": null,
   "metadata": {},
   "outputs": [],
   "source": [
    "points = test_plot1.get_added_points()[0].points\n",
    "verts = toVertecies(points)\n",
    "\n",
    "# play around i think it works :)\n",
    "print(cmp_distance(verts[0], verts[1], verts[4]))\n",
    "print(cmp_angles(verts[0], verts[4], verts[1]))\n",
    "print(cmp_angle_distance(verts[0], verts[4], verts[1]))\n"
   ]
  },
  {
   "cell_type": "code",
   "execution_count": null,
   "metadata": {},
   "outputs": [],
   "source": [
    "print(sort_by_angle_distance(verts[0], verts))"
   ]
  },
  {
   "cell_type": "code",
   "execution_count": null,
   "metadata": {},
   "outputs": [],
   "source": [
    "test_plot2 = Plot()\n",
    "test_plot2.draw()"
   ]
  },
  {
   "cell_type": "code",
   "execution_count": null,
   "metadata": {},
   "outputs": [],
   "source": [
    "edges = test_plot2.get_added_lines()[0].lines\n",
    "# print(edges)\n",
    "edges = toEdges(edges)\n",
    "# print(edges)\n",
    "# play around i think it works :)\n",
    "print(edge_intersect(edges[1], edges[2]))"
   ]
  }
 ],
 "metadata": {
  "kernelspec": {
   "display_name": "Python 3",
   "language": "python",
   "name": "python3"
  },
  "language_info": {
   "codemirror_mode": {
    "name": "ipython",
    "version": 3
   },
   "file_extension": ".py",
   "mimetype": "text/x-python",
   "name": "python",
   "nbconvert_exporter": "python",
   "pygments_lexer": "ipython3",
   "version": "3.10.6"
  },
  "orig_nbformat": 4,
  "vscode": {
   "interpreter": {
    "hash": "916dbcbb3f70747c44a77c7bcd40155683ae19c65e1c03b4aa3499c5328201f1"
   }
  }
 },
 "nbformat": 4,
 "nbformat_minor": 2
}
