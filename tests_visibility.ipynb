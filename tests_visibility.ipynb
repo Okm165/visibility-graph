{
 "cells": [
  {
   "cell_type": "code",
   "execution_count": null,
   "metadata": {},
   "outputs": [],
   "source": [
    "%matplotlib widget\n",
    "from geometria import *\n",
    "from graph import *\n",
    "from trig import *\n",
    "from visible_vertices import *"
   ]
  },
  {
   "cell_type": "code",
   "execution_count": null,
   "metadata": {},
   "outputs": [],
   "source": [
    "test_plot1 = Plot()\n",
    "test_plot1.draw()\n",
    "\n",
    "# READ  ME  !!!!!!\n",
    "# żeby narysować dwie figury sposób jaki znalazłem to najpierw przycisk\n",
    "# dodaj figure potem jak zakoczysz przełącz sie na chwile na dodaj linie i znów na dodajfigure i narysuj drugą\n",
    "# inaczej to matplotlib łączy ci figury i szit :)"
   ]
  },
  {
   "cell_type": "code",
   "execution_count": null,
   "metadata": {},
   "outputs": [],
   "source": [
    "figs = test_plot1.get_added_figure()\n",
    "\n",
    "G = Graph(figs)\n",
    "verts = G.get_verticies()\n",
    "edges = G.get_edges()\n",
    "\n",
    "vis = visible_vertices(verts[0], G)\n",
    "print(vis)\n",
    "\n",
    "figs.append(LinesCollection([[(verts[0].x, verts[0].y), (v.x, v.y)] for v in vis], color=\"red\"))\n",
    "\n",
    "plot_final = Plot(lines=figs)\n",
    "plot_final.draw()"
   ]
  }
 ],
 "metadata": {
  "kernelspec": {
   "display_name": "Python 3 (ipykernel)",
   "language": "python",
   "name": "python3"
  },
  "language_info": {
   "codemirror_mode": {
    "name": "ipython",
    "version": 3
   },
   "file_extension": ".py",
   "mimetype": "text/x-python",
   "name": "python",
   "nbconvert_exporter": "python",
   "pygments_lexer": "ipython3",
   "version": "3.10.6"
  },
  "orig_nbformat": 4,
  "vscode": {
   "interpreter": {
    "hash": "916dbcbb3f70747c44a77c7bcd40155683ae19c65e1c03b4aa3499c5328201f1"
   }
  }
 },
 "nbformat": 4,
 "nbformat_minor": 2
}
